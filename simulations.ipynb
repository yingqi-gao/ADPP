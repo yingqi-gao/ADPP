{
 "cells": [
  {
   "cell_type": "code",
   "execution_count": 1,
   "metadata": {},
   "outputs": [
    {
     "name": "stdout",
     "output_type": "stream",
     "text": [
      "── Attaching core tidyverse packages ──────────────────────── tidyverse 2.0.0 ──\n",
      "✔ dplyr     1.1.4     ✔ readr     2.1.5\n",
      "✔ forcats   1.0.0     ✔ stringr   1.5.1\n",
      "✔ ggplot2   3.5.1     ✔ tibble    3.2.1\n",
      "✔ lubridate 1.9.3     ✔ tidyr     1.3.1\n",
      "✔ purrr     1.0.2     \n",
      "── Conflicts ────────────────────────────────────────── tidyverse_conflicts() ──\n",
      "✖ dplyr::filter() masks stats::filter()\n",
      "✖ dplyr::lag()    masks stats::lag()\n",
      "ℹ Use the conflicted package (<http://conflicted.r-lib.org/>) to force all conflicts to become errors\n"
     ]
    }
   ],
   "source": [
    "import random\n",
    "import numpy as np\n",
    "from simulations import simulate_bids, simulate_regrets\n",
    "import matplotlib.pyplot as plt\n",
    "\n",
    "# Set the seed\n",
    "random.seed(42)\n",
    "np.random.seed(63)"
   ]
  },
  {
   "cell_type": "markdown",
   "metadata": {},
   "source": [
    "# Generate bids"
   ]
  },
  {
   "cell_type": "code",
   "execution_count": 2,
   "metadata": {},
   "outputs": [],
   "source": [
    "norm_bids_dict = simulate_bids(\n",
    "    dist_name=\"truncnorm\",\n",
    "    lower=1,\n",
    "    upper=10,\n",
    "    max_N=1000,\n",
    "    max_n=100,\n",
    "    max_N_train=100,\n",
    "    max_n_train=500,\n",
    ")\n",
    "expon_bids_dict = simulate_bids(\n",
    "    dist_name=\"truncexpon\",\n",
    "    lower=1,\n",
    "    upper=10,\n",
    "    max_N=1000,\n",
    "    max_n=100,\n",
    "    max_N_train=100,\n",
    "    max_n_train=500,\n",
    ")\n",
    "pareto_bids_dict = simulate_bids(\n",
    "    dist_name=\"truncpareto\",\n",
    "    lower=1,\n",
    "    upper=10,\n",
    "    max_N=1000,\n",
    "    max_n=100,\n",
    "    max_N_train=100,\n",
    "    max_n_train=500,\n",
    ")"
   ]
  },
  {
   "cell_type": "markdown",
   "metadata": {},
   "source": [
    "# Run auctions"
   ]
  },
  {
   "cell_type": "code",
   "execution_count": 3,
   "metadata": {},
   "outputs": [],
   "source": [
    "dist_names = [\"truncnorm\", \"truncexpon\", \"truncpareto\"]\n",
    "bids_dicts = [norm_bids_dict, expon_bids_dict, pareto_bids_dict]\n",
    "ns = [10, 20, 50, 100]\n",
    "N_trains = [50, 100]\n",
    "n_trains = [100, 200, 500]"
   ]
  },
  {
   "cell_type": "code",
   "execution_count": 4,
   "metadata": {},
   "outputs": [],
   "source": [
    "regrets_dict = {}\n",
    "for i, dist_name in enumerate(dist_names):\n",
    "    regrets_to_plot = []\n",
    "    for n in ns:\n",
    "        regrets_to_plot.append(\n",
    "            np.hstack(simulate_regrets(bids_dicts[i], \"ecdf\", N=1000, n=n))\n",
    "        )\n",
    "        regrets_to_plot.append(\n",
    "            np.hstack(simulate_regrets(bids_dicts[i], \"kde\", N=1000, n=n))\n",
    "        )\n",
    "        for N_train in N_trains:\n",
    "            for n_train in n_trains:\n",
    "                regrets_to_plot.append(\n",
    "                    np.hstack(\n",
    "                        simulate_regrets(\n",
    "                            bids_dicts[i],\n",
    "                            \"rde\",\n",
    "                            N=1000,\n",
    "                            n=n,\n",
    "                            N_train=N_train,\n",
    "                            n_train=n_train,\n",
    "                        )\n",
    "                    )\n",
    "                )\n",
    "    regrets_dict[dist_name] = regrets_to_plot"
   ]
  },
  {
   "cell_type": "code",
   "execution_count": 8,
   "metadata": {},
   "outputs": [
    {
     "data": {
      "text/plain": [
       "32"
      ]
     },
     "execution_count": 8,
     "metadata": {},
     "output_type": "execute_result"
    }
   ],
   "source": [
    "# plt.boxplot(regrets_dict[\"truncnorm\"])\n",
    "len(regrets_dict[\"truncnorm\"])"
   ]
  },
  {
   "cell_type": "code",
   "execution_count": 6,
   "metadata": {},
   "outputs": [],
   "source": [
    "import pickle\n",
    "\n",
    "# Write object to a file\n",
    "with open(\"regrets.pkl\", \"wb\") as file:\n",
    "    pickle.dump(regrets_dict, file)"
   ]
  }
 ],
 "metadata": {
  "kernelspec": {
   "display_name": "base",
   "language": "python",
   "name": "python3"
  },
  "language_info": {
   "codemirror_mode": {
    "name": "ipython",
    "version": 3
   },
   "file_extension": ".py",
   "mimetype": "text/x-python",
   "name": "python",
   "nbconvert_exporter": "python",
   "pygments_lexer": "ipython3",
   "version": "3.11.3"
  }
 },
 "nbformat": 4,
 "nbformat_minor": 4
}
