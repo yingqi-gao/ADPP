{
 "cells": [
  {
   "cell_type": "code",
   "execution_count": 1,
   "metadata": {},
   "outputs": [],
   "source": [
    "import dill \n",
    "\n",
    "with open(\"data/initializations.pkl\", \"rb\") as file:\n",
    "        initializations = dill.load(file)"
   ]
  },
  {
   "cell_type": "code",
   "execution_count": 2,
   "metadata": {},
   "outputs": [],
   "source": [
    "test = initializations[\"uniform_floated_small\"]"
   ]
  },
  {
   "cell_type": "code",
   "execution_count": 3,
   "metadata": {},
   "outputs": [
    {
     "name": "stderr",
     "output_type": "stream",
     "text": [
      "R[write to console]: Loading required package: spatstat.data\n",
      "\n",
      "R[write to console]: Loading required package: spatstat.geom\n",
      "\n",
      "R[write to console]: spatstat.geom 3.2-9\n",
      "\n",
      "R[write to console]: Loading required package: spatstat.random\n",
      "\n",
      "R[write to console]: spatstat.random 3.2-3\n",
      "\n",
      "R[write to console]: Loading required package: spatstat.explore\n",
      "\n",
      "R[write to console]: Loading required package: nlme\n",
      "\n",
      "R[write to console]: spatstat.explore 3.2-7\n",
      "\n",
      "R[write to console]: Loading required package: spatstat.model\n",
      "\n",
      "R[write to console]: Loading required package: rpart\n",
      "\n",
      "R[write to console]: spatstat.model 3.2-11\n",
      "\n",
      "R[write to console]: Loading required package: spatstat.linnet\n",
      "\n",
      "R[write to console]: spatstat.linnet 3.1-5\n",
      "\n",
      "R[write to console]: \n",
      "spatstat 3.0-8 \n",
      "For an introduction to spatstat, type ‘beginner’ \n",
      "\n",
      "\n"
     ]
    },
    {
     "name": "stdout",
     "output_type": "stream",
     "text": [
      "Round 10 of normal_fixed_small_RSRDE_MLE done!\n",
      "Round 20 of normal_fixed_small_RSRDE_MLE done!\n",
      "Round 30 of normal_fixed_small_RSRDE_MLE done!\n",
      "Round 40 of normal_fixed_small_RSRDE_MLE done!\n",
      "Round 50 of normal_fixed_small_RSRDE_MLE done!\n",
      "Round 60 of normal_fixed_small_RSRDE_MLE done!\n",
      "Round 70 of normal_fixed_small_RSRDE_MLE done!\n",
      "Round 80 of normal_fixed_small_RSRDE_MLE done!\n",
      "Round 90 of normal_fixed_small_RSRDE_MLE done!\n",
      "Round 100 of normal_fixed_small_RSRDE_MLE done!\n",
      "Round 110 of normal_fixed_small_RSRDE_MLE done!\n",
      "--------------------\n",
      "All done with RSRDE_MLE on normal_fixed_small!\n"
     ]
    }
   ],
   "source": [
    "from _run_auctions import run_auctions\n",
    "\n",
    "run_auctions(test, \"normal_fixed_small\", \"RSRDE_MLE\")"
   ]
  },
  {
   "cell_type": "code",
   "execution_count": null,
   "metadata": {},
   "outputs": [],
   "source": []
  }
 ],
 "metadata": {
  "kernelspec": {
   "display_name": "base",
   "language": "python",
   "name": "python3"
  },
  "language_info": {
   "codemirror_mode": {
    "name": "ipython",
    "version": 3
   },
   "file_extension": ".py",
   "mimetype": "text/x-python",
   "name": "python",
   "nbconvert_exporter": "python",
   "pygments_lexer": "ipython3",
   "version": "3.11.3"
  }
 },
 "nbformat": 4,
 "nbformat_minor": 2
}
