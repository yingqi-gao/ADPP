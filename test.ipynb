{
 "cells": [
  {
   "cell_type": "code",
   "execution_count": 1,
   "metadata": {},
   "outputs": [],
   "source": [
    "import pickle \n",
    "\n",
    "with open(\"initializations.pkl\", \"rb\") as file:\n",
    "        initializations = pickle.load(file)"
   ]
  },
  {
   "cell_type": "code",
   "execution_count": 2,
   "metadata": {},
   "outputs": [],
   "source": [
    "test = initializations[\"uniform_floated_small\"]"
   ]
  },
  {
   "cell_type": "code",
   "execution_count": 3,
   "metadata": {},
   "outputs": [
    {
     "name": "stderr",
     "output_type": "stream",
     "text": [
      "R[write to console]: Loading required package: spatstat.data\n",
      "\n",
      "R[write to console]: Loading required package: spatstat.geom\n",
      "\n",
      "R[write to console]: spatstat.geom 3.2-9\n",
      "\n",
      "R[write to console]: Loading required package: spatstat.random\n",
      "\n",
      "R[write to console]: spatstat.random 3.2-3\n",
      "\n",
      "R[write to console]: Loading required package: spatstat.explore\n",
      "\n",
      "R[write to console]: Loading required package: nlme\n",
      "\n",
      "R[write to console]: spatstat.explore 3.2-7\n",
      "\n",
      "R[write to console]: Loading required package: spatstat.model\n",
      "\n",
      "R[write to console]: Loading required package: rpart\n",
      "\n",
      "R[write to console]: spatstat.model 3.2-11\n",
      "\n",
      "R[write to console]: Loading required package: spatstat.linnet\n",
      "\n",
      "R[write to console]: spatstat.linnet 3.1-5\n",
      "\n",
      "R[write to console]: \n",
      "spatstat 3.0-8 \n",
      "For an introduction to spatstat, type ‘beginner’ \n",
      "\n",
      "\n"
     ]
    },
    {
     "name": "stdout",
     "output_type": "stream",
     "text": [
      "Round 10 of uniform_floated_small_RSRDE_MLE done!\n",
      "Round 20 of uniform_floated_small_RSRDE_MLE done!\n",
      "Round 30 of uniform_floated_small_RSRDE_MLE done!\n",
      "Round 40 of uniform_floated_small_RSRDE_MLE done!\n",
      "Round 50 of uniform_floated_small_RSRDE_MLE done!\n",
      "Round 60 of uniform_floated_small_RSRDE_MLE done!\n",
      "Round 70 of uniform_floated_small_RSRDE_MLE done!\n",
      "Round 80 of uniform_floated_small_RSRDE_MLE done!\n",
      "Round 90 of uniform_floated_small_RSRDE_MLE done!\n",
      "Round 100 of uniform_floated_small_RSRDE_MLE done!\n",
      "Round 110 of uniform_floated_small_RSRDE_MLE done!\n",
      "Round 120 of uniform_floated_small_RSRDE_MLE done!\n",
      "Round 130 of uniform_floated_small_RSRDE_MLE done!\n",
      "Round 140 of uniform_floated_small_RSRDE_MLE done!\n",
      "Round 150 of uniform_floated_small_RSRDE_MLE done!\n",
      "Round 160 of uniform_floated_small_RSRDE_MLE done!\n",
      "Round 170 of uniform_floated_small_RSRDE_MLE done!\n",
      "Round 180 of uniform_floated_small_RSRDE_MLE done!\n",
      "Round 190 of uniform_floated_small_RSRDE_MLE done!\n",
      "Round 200 of uniform_floated_small_RSRDE_MLE done!\n"
     ]
    }
   ],
   "source": [
    "from _run_auctions import run_auctions\n",
    "\n",
    "run_auctions(test, \"uniform_floated_small\", \"RSRDE_MLE\")"
   ]
  },
  {
   "cell_type": "code",
   "execution_count": 4,
   "metadata": {},
   "outputs": [],
   "source": [
    "import dill\n",
    "\n",
    "with open(\"uniform_floated_small_RSRDE_MLE.pkl\", \"rb\") as file:\n",
    "    online_auctions = dill.load(file)"
   ]
  },
  {
   "cell_type": "code",
   "execution_count": 5,
   "metadata": {},
   "outputs": [
    {
     "data": {
      "text/plain": [
       "RSOPAuction(initialization=AuctionInitialization(true_dist=UniformDistribution(lower=1, upper=11.235023029379697, scipy_func=<scipy.stats._continuous_distns.uniform_gen object at 0x155e97fd0>, params={'loc': 1, 'scale': 10.235023029379697}, cdf=<bound method rv_continuous.cdf of <scipy.stats._continuous_distns.uniform_gen object at 0x155e97fd0>>), num_bidders=78, bids={'bidder0': 5.132059361480354, 'bidder1': 8.774033764379373, 'bidder2': 4.672369085547476, 'bidder3': 10.58759646495485, 'bidder4': 2.7594797061594543, 'bidder5': 2.897446020453768, 'bidder6': 6.393643823330749, 'bidder7': 3.4959548447104045, 'bidder8': 10.934814516622595, 'bidder9': 3.385090638223682, 'bidder10': 2.230314206971363, 'bidder11': 2.2039805310463914, 'bidder12': 11.142956329630312, 'bidder13': 8.838407181334016, 'bidder14': 7.952099674275579, 'bidder15': 1.231383552037679, 'bidder16': 3.0363646927115733, 'bidder17': 9.924546612708196, 'bidder18': 6.98120832556865, 'bidder19': 3.8581700127341265, 'bidder20': 9.383424763992059, 'bidder21': 2.710992257595141, 'bidder22': 10.872344091064791, 'bidder23': 9.182598143309264, 'bidder24': 4.289990164176295, 'bidder25': 4.149901751623724, 'bidder26': 9.107244839676293, 'bidder27': 5.594946351513391, 'bidder28': 2.765600644435486, 'bidder29': 4.984881654187696, 'bidder30': 6.643389812826515, 'bidder31': 9.652056888181379, 'bidder32': 3.4697685022768585, 'bidder33': 1.2132622671309103, 'bidder34': 5.0279356011199425, 'bidder35': 1.5915344289973228, 'bidder36': 1.242576138611519, 'bidder37': 3.817367016726395, 'bidder38': 3.4881153190631435, 'bidder39': 6.7990281791794835, 'bidder40': 7.618364459477952, 'bidder41': 8.382552918489935, 'bidder42': 6.322901312206295, 'bidder43': 5.2650321136630565, 'bidder44': 6.088374769418632, 'bidder45': 3.6641049042990734, 'bidder46': 3.0136048460036844, 'bidder47': 8.571873632028467, 'bidder48': 1.2332452942879346, 'bidder49': 5.335293042085331, 'bidder50': 10.106382945470314, 'bidder51': 5.342425975345056, 'bidder52': 5.186746619405753, 'bidder53': 7.519975936839271, 'bidder54': 2.1030668262194414, 'bidder55': 6.024709466088283, 'bidder56': 1.5299120189093505, 'bidder57': 5.970594060685253, 'bidder58': 4.834522968100668, 'bidder59': 4.40830270510979, 'bidder60': 10.716820922788814, 'bidder61': 4.031492691235484, 'bidder62': 9.872735737695425, 'bidder63': 8.061777155905986, 'bidder64': 8.211338177298135, 'bidder65': 4.9554903927335, 'bidder66': 3.3371638098829535, 'bidder67': 2.0650664393932665, 'bidder68': 3.528642222135412, 'bidder69': 7.617882684206208, 'bidder70': 8.126705756354943, 'bidder71': 5.070766649706124, 'bidder72': 1.261029215652577, 'bidder73': 2.259308529729003, 'bidder74': 3.8421972908519506, 'bidder75': 7.344572736657045, 'bidder76': 1.4233435822101497, 'bidder77': 6.294341194465176}), pricing_mechanism='RSOP', actual_price=4.9554903927335, actual_revenue=3.040360882670397, ideal_price=5.617511151870962, ideal_revenue=3.0831816916376207, regret=0.042820808967223734)"
      ]
     },
     "execution_count": 5,
     "metadata": {},
     "output_type": "execute_result"
    }
   ],
   "source": [
    "online_auctions[0]"
   ]
  },
  {
   "cell_type": "code",
   "execution_count": null,
   "metadata": {},
   "outputs": [],
   "source": []
  }
 ],
 "metadata": {
  "kernelspec": {
   "display_name": "base",
   "language": "python",
   "name": "python3"
  },
  "language_info": {
   "codemirror_mode": {
    "name": "ipython",
    "version": 3
   },
   "file_extension": ".py",
   "mimetype": "text/x-python",
   "name": "python",
   "nbconvert_exporter": "python",
   "pygments_lexer": "ipython3",
   "version": "3.11.3"
  }
 },
 "nbformat": 4,
 "nbformat_minor": 2
}
