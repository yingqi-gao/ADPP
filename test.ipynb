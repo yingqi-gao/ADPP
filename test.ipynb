{
 "cells": [
  {
   "cell_type": "code",
   "execution_count": 2,
   "metadata": {},
   "outputs": [],
   "source": [
    "import pickle \n",
    "\n",
    "with open(\"initializations.pkl\", \"rb\") as file:\n",
    "        initializations = pickle.load(file)"
   ]
  },
  {
   "cell_type": "code",
   "execution_count": 3,
   "metadata": {},
   "outputs": [],
   "source": [
    "test = initializations[\"uniform_fixed_small\"].sequence_auctions[0]"
   ]
  },
  {
   "cell_type": "code",
   "execution_count": 8,
   "metadata": {},
   "outputs": [
    {
     "ename": "AttributeError",
     "evalue": "'tuple' object has no attribute 'keys'",
     "output_type": "error",
     "traceback": [
      "\u001b[0;31m---------------------------------------------------------------------------\u001b[0m",
      "\u001b[0;31mAttributeError\u001b[0m                            Traceback (most recent call last)",
      "Cell \u001b[0;32mIn[8], line 1\u001b[0m\n\u001b[0;32m----> 1\u001b[0m [item\u001b[38;5;241m.\u001b[39mkeys() \u001b[38;5;28;01mfor\u001b[39;00m i, item \u001b[38;5;129;01min\u001b[39;00m \u001b[38;5;28menumerate\u001b[39m(initializations\u001b[38;5;241m.\u001b[39mitems())]\n",
      "Cell \u001b[0;32mIn[8], line 1\u001b[0m, in \u001b[0;36m<listcomp>\u001b[0;34m(.0)\u001b[0m\n\u001b[0;32m----> 1\u001b[0m [item\u001b[38;5;241m.\u001b[39mkeys() \u001b[38;5;28;01mfor\u001b[39;00m i, item \u001b[38;5;129;01min\u001b[39;00m \u001b[38;5;28menumerate\u001b[39m(initializations\u001b[38;5;241m.\u001b[39mitems())]\n",
      "\u001b[0;31mAttributeError\u001b[0m: 'tuple' object has no attribute 'keys'"
     ]
    }
   ],
   "source": []
  },
  {
   "cell_type": "code",
   "execution_count": 4,
   "metadata": {},
   "outputs": [
    {
     "name": "stderr",
     "output_type": "stream",
     "text": [
      "R[write to console]: Loading required package: spatstat.data\n",
      "\n",
      "R[write to console]: Loading required package: spatstat.geom\n",
      "\n",
      "R[write to console]: spatstat.geom 3.2-9\n",
      "\n",
      "R[write to console]: Loading required package: spatstat.random\n",
      "\n",
      "R[write to console]: spatstat.random 3.2-3\n",
      "\n",
      "R[write to console]: Loading required package: spatstat.explore\n",
      "\n",
      "R[write to console]: Loading required package: nlme\n",
      "\n",
      "R[write to console]: spatstat.explore 3.2-7\n",
      "\n",
      "R[write to console]: Loading required package: spatstat.model\n",
      "\n",
      "R[write to console]: Loading required package: rpart\n",
      "\n",
      "R[write to console]: spatstat.model 3.2-11\n",
      "\n",
      "R[write to console]: Loading required package: spatstat.linnet\n",
      "\n",
      "R[write to console]: spatstat.linnet 3.1-5\n",
      "\n",
      "R[write to console]: \n",
      "spatstat 3.0-8 \n",
      "For an introduction to spatstat, type ‘beginner’ \n",
      "\n",
      "\n",
      "Exception ignored from cffi callback <function _processevents at 0x28d7dfce0>:\n",
      "Traceback (most recent call last):\n",
      "  File \"/Users/qiqi/anaconda3/lib/python3.11/site-packages/rpy2/rinterface_lib/callbacks.py\", line 275, in _processevents\n",
      "    @ffi_proxy.callback(ffi_proxy._processevents_def,\n",
      "    \n",
      "KeyboardInterrupt: \n"
     ]
    }
   ],
   "source": [
    "from _classes_auction_result import OnlineAuctions\n",
    "\n",
    "test_online = OnlineAuctions(online_initialization=initializations[\"uniform_fixed_small\"])"
   ]
  }
 ],
 "metadata": {
  "kernelspec": {
   "display_name": "base",
   "language": "python",
   "name": "python3"
  },
  "language_info": {
   "codemirror_mode": {
    "name": "ipython",
    "version": 3
   },
   "file_extension": ".py",
   "mimetype": "text/x-python",
   "name": "python",
   "nbconvert_exporter": "python",
   "pygments_lexer": "ipython3",
   "version": "3.11.3"
  }
 },
 "nbformat": 4,
 "nbformat_minor": 2
}
