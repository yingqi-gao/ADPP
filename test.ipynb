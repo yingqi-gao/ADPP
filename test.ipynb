{
 "cells": [
  {
   "cell_type": "code",
   "execution_count": 10,
   "metadata": {},
   "outputs": [],
   "source": [
    "import pickle\n",
    "import rpy2.robjects as robjects"
   ]
  },
  {
   "cell_type": "code",
   "execution_count": 15,
   "metadata": {},
   "outputs": [],
   "source": [
    "# Retrieve histories\n",
    "with open(\"histories.pkl\", \"rb\") as file:\n",
    "        histories = pickle.load(file)"
   ]
  },
  {
   "cell_type": "code",
   "execution_count": 1,
   "metadata": {},
   "outputs": [],
   "source": [
    "from _classes import ExponentialDistribution"
   ]
  },
  {
   "cell_type": "code",
   "execution_count": 3,
   "metadata": {},
   "outputs": [
    {
     "data": {
      "text/plain": [
       "{'bidder0': 3.5108116918307566,\n",
       " 'bidder1': 3.641399581734083,\n",
       " 'bidder2': 3.9606421182594964,\n",
       " 'bidder3': 5.782217985033419,\n",
       " 'bidder4': 2.65582452102283,\n",
       " 'bidder5': 1.4714875982488733,\n",
       " 'bidder6': 1.6157832956801026,\n",
       " 'bidder7': 1.8833452222648916,\n",
       " 'bidder8': 3.4203521942183763,\n",
       " 'bidder9': 1.202832985522897,\n",
       " 'bidder10': 4.668243361326748,\n",
       " 'bidder11': 6.813667131539784,\n",
       " 'bidder12': 4.976752296078812,\n",
       " 'bidder13': 1.9071966984209001,\n",
       " 'bidder14': 9.25993572101099,\n",
       " 'bidder15': 1.8513872000486482,\n",
       " 'bidder16': 3.0172258407103554,\n",
       " 'bidder17': 2.187230014503502,\n",
       " 'bidder18': 4.131952244331108,\n",
       " 'bidder19': 4.018257233965405,\n",
       " 'bidder20': 6.126625004077818,\n",
       " 'bidder21': 1.9811877813123149,\n",
       " 'bidder22': 5.810120150394184,\n",
       " 'bidder23': 6.257325775032985,\n",
       " 'bidder24': 5.481104953665524,\n",
       " 'bidder25': 2.792722004000156,\n",
       " 'bidder26': 1.0869475769160024,\n",
       " 'bidder27': 5.073508790710673,\n",
       " 'bidder28': 2.21374612308197,\n",
       " 'bidder29': 1.449671261530678,\n",
       " 'bidder30': 2.418757286837983,\n",
       " 'bidder31': 8.775811145392975,\n",
       " 'bidder32': 3.946916579066393,\n",
       " 'bidder33': 9.950766507140646,\n",
       " 'bidder34': 1.8756645248714843,\n",
       " 'bidder35': 1.2503192299320416,\n",
       " 'bidder36': 9.764250428684813,\n",
       " 'bidder37': 1.9826060973924038,\n",
       " 'bidder38': 4.176030567321128,\n",
       " 'bidder39': 3.981823099440338,\n",
       " 'bidder40': 2.9777060896513574,\n",
       " 'bidder41': 2.974115873294775,\n",
       " 'bidder42': 1.11132961038988,\n",
       " 'bidder43': 2.927848104665207,\n",
       " 'bidder44': 9.93555177635098,\n",
       " 'bidder45': 1.833950729046074,\n",
       " 'bidder46': 2.0262653282210454,\n",
       " 'bidder47': 2.262061883786072,\n",
       " 'bidder48': 2.9265194773975516,\n",
       " 'bidder49': 1.0101977021022448,\n",
       " 'bidder50': 1.7808255649025404,\n",
       " 'bidder51': 1.9819242051143973,\n",
       " 'bidder52': 2.6632706198309393,\n",
       " 'bidder53': 7.5996384171794125,\n",
       " 'bidder54': 2.5581312196625072,\n",
       " 'bidder55': 2.038140154785049,\n",
       " 'bidder56': 3.750996847686055,\n",
       " 'bidder57': 1.9817831941341986,\n",
       " 'bidder58': 3.3271774938155425,\n",
       " 'bidder59': 4.070741933655308,\n",
       " 'bidder60': 3.729583972352857,\n",
       " 'bidder61': 1.183440638009193,\n",
       " 'bidder62': 5.15613355645379,\n",
       " 'bidder63': 1.2669366515481377,\n",
       " 'bidder64': 1.621842221709071,\n",
       " 'bidder65': 2.033053049616158,\n",
       " 'bidder66': 8.152538355801706,\n",
       " 'bidder67': 3.4901280076866588,\n",
       " 'bidder68': 4.758377682266992,\n",
       " 'bidder69': 2.5832550077653447,\n",
       " 'bidder70': 3.008694204909644,\n",
       " 'bidder71': 1.3950568301969684,\n",
       " 'bidder72': 2.1632550848397476,\n",
       " 'bidder73': 3.947138547138079,\n",
       " 'bidder74': 1.7029642674203322,\n",
       " 'bidder75': 2.009541273599072,\n",
       " 'bidder76': 2.1601866661519527,\n",
       " 'bidder77': 1.0740328265914179,\n",
       " 'bidder78': 7.641733162571423,\n",
       " 'bidder79': 1.9069371901281702}"
      ]
     },
     "execution_count": 3,
     "metadata": {},
     "output_type": "execute_result"
    }
   ],
   "source": [
    "exp_dist = ExponentialDistribution(lower = 1, upper = 10)\n",
    "exp_dist.generate_bids()"
   ]
  },
  {
   "cell_type": "code",
   "execution_count": 4,
   "metadata": {},
   "outputs": [
    {
     "name": "stdout",
     "output_type": "stream",
     "text": [
      "ExponentialDistribution(lower=1, upper=10, scipy_func=<scipy.stats._continuous_distns.truncexpon_gen object at 0x12227e5d0>, params={'b': 2.6794025602854417, 'loc': 1, 'scale': 3.3589577517762814}, scale=3.3589577517762814)\n"
     ]
    }
   ],
   "source": [
    "print(exp_dist)"
   ]
  },
  {
   "cell_type": "code",
   "execution_count": null,
   "metadata": {},
   "outputs": [],
   "source": []
  }
 ],
 "metadata": {
  "kernelspec": {
   "display_name": "base",
   "language": "python",
   "name": "python3"
  },
  "language_info": {
   "codemirror_mode": {
    "name": "ipython",
    "version": 3
   },
   "file_extension": ".py",
   "mimetype": "text/x-python",
   "name": "python",
   "nbconvert_exporter": "python",
   "pygments_lexer": "ipython3",
   "version": "3.11.3"
  }
 },
 "nbformat": 4,
 "nbformat_minor": 2
}
