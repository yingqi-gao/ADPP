{
 "cells": [
  {
   "cell_type": "code",
   "execution_count": 1,
   "metadata": {},
   "outputs": [],
   "source": [
    "import dill \n",
    "\n",
    "with open(\"data/initializations.pkl\", \"rb\") as file:\n",
    "        initializations = dill.load(file)"
   ]
  },
  {
   "cell_type": "code",
   "execution_count": 2,
   "metadata": {},
   "outputs": [
    {
     "data": {
      "text/plain": [
       "dict_keys(['uniform_fixed_small', 'uniform_fixed_large', 'uniform_floated_small', 'uniform_floated_large', 'normal_fixed_small', 'normal_fixed_large', 'normal_floated_small', 'normal_floated_large', 'exponential_fixed_small', 'exponential_fixed_large', 'exponential_floated_small', 'exponential_floated_large'])"
      ]
     },
     "execution_count": 2,
     "metadata": {},
     "output_type": "execute_result"
    }
   ],
   "source": [
    "initializations.keys()"
   ]
  },
  {
   "cell_type": "code",
   "execution_count": 3,
   "metadata": {},
   "outputs": [],
   "source": [
    "from train_rsrde import train_rsrde\n",
    "from multiprocessing import Lock\n",
    "import time"
   ]
  },
  {
   "cell_type": "code",
   "execution_count": 4,
   "metadata": {},
   "outputs": [
    {
     "name": "stderr",
     "output_type": "stream",
     "text": [
      "R[write to console]: In addition: \n",
      "R[write to console]: Warning message:\n",
      "\n",
      "R[write to console]: In fpca2DenFam(fpca_res, control = list(num.k = max_k)) :\n",
      "R[write to console]: \n",
      " \n",
      "R[write to console]:  Insufficient number of eigenfucntions, num.k reset.\n",
      "\n",
      "R[write to console]: In addition: \n",
      "R[write to console]: Warning message:\n",
      "\n",
      "R[write to console]: In fpca2DenFam(fpca_res, control = list(num.k = max_k)) :\n",
      "R[write to console]: \n",
      " \n",
      "R[write to console]:  Insufficient number of eigenfucntions, num.k reset.\n",
      "\n",
      "R[write to console]: In addition: \n",
      "R[write to console]: Warning message:\n",
      "\n",
      "R[write to console]: In fpca2DenFam(fpca_res, control = list(num.k = max_k)) :\n",
      "R[write to console]: \n",
      " \n",
      "R[write to console]:  Insufficient number of eigenfucntions, num.k reset.\n",
      "\n",
      "R[write to console]: In addition: \n",
      "R[write to console]: Warning message:\n",
      "\n",
      "R[write to console]: In fpca2DenFam(fpca_res, control = list(num.k = max_k)) :\n",
      "R[write to console]: \n",
      " \n",
      "R[write to console]:  Insufficient number of eigenfucntions, num.k reset.\n",
      "\n",
      "R[write to console]: In addition: \n",
      "R[write to console]: Warning message:\n",
      "\n",
      "R[write to console]: In fpca2DenFam(fpca_res, control = list(num.k = max_k)) :\n",
      "R[write to console]: \n",
      " \n",
      "R[write to console]:  Insufficient number of eigenfucntions, num.k reset.\n",
      "\n"
     ]
    },
    {
     "name": "stdout",
     "output_type": "stream",
     "text": [
      "Round 10 of data/RSRDE_training/uniform_fixed_small_RSRDE_training.pkl done!\n"
     ]
    },
    {
     "name": "stderr",
     "output_type": "stream",
     "text": [
      "R[write to console]: In addition: \n",
      "R[write to console]: Warning message:\n",
      "\n",
      "R[write to console]: In fpca2DenFam(fpca_res, control = list(num.k = max_k)) :\n",
      "R[write to console]: \n",
      " \n",
      "R[write to console]:  Insufficient number of eigenfucntions, num.k reset.\n",
      "\n",
      "R[write to console]: In addition: \n",
      "R[write to console]: Warning message:\n",
      "\n",
      "R[write to console]: In fpca2DenFam(fpca_res, control = list(num.k = max_k)) :\n",
      "R[write to console]: \n",
      " \n",
      "R[write to console]:  Insufficient number of eigenfucntions, num.k reset.\n",
      "\n"
     ]
    },
    {
     "name": "stdout",
     "output_type": "stream",
     "text": [
      "Round 20 of data/RSRDE_training/uniform_fixed_small_RSRDE_training.pkl done!\n",
      "Round 30 of data/RSRDE_training/uniform_fixed_small_RSRDE_training.pkl done!\n",
      "Round 40 of data/RSRDE_training/uniform_fixed_small_RSRDE_training.pkl done!\n",
      "Round 50 of data/RSRDE_training/uniform_fixed_small_RSRDE_training.pkl done!\n",
      "Round 60 of data/RSRDE_training/uniform_fixed_small_RSRDE_training.pkl done!\n",
      "Round 70 of data/RSRDE_training/uniform_fixed_small_RSRDE_training.pkl done!\n",
      "Round 80 of data/RSRDE_training/uniform_fixed_small_RSRDE_training.pkl done!\n",
      "Round 90 of data/RSRDE_training/uniform_fixed_small_RSRDE_training.pkl done!\n",
      "Round 100 of data/RSRDE_training/uniform_fixed_small_RSRDE_training.pkl done!\n",
      "Round 110 of data/RSRDE_training/uniform_fixed_small_RSRDE_training.pkl done!\n",
      "Round 120 of data/RSRDE_training/uniform_fixed_small_RSRDE_training.pkl done!\n",
      "Round 130 of data/RSRDE_training/uniform_fixed_small_RSRDE_training.pkl done!\n",
      "Round 140 of data/RSRDE_training/uniform_fixed_small_RSRDE_training.pkl done!\n",
      "Round 150 of data/RSRDE_training/uniform_fixed_small_RSRDE_training.pkl done!\n",
      "Round 160 of data/RSRDE_training/uniform_fixed_small_RSRDE_training.pkl done!\n",
      "Round 170 of data/RSRDE_training/uniform_fixed_small_RSRDE_training.pkl done!\n",
      "Round 180 of data/RSRDE_training/uniform_fixed_small_RSRDE_training.pkl done!\n",
      "Round 190 of data/RSRDE_training/uniform_fixed_small_RSRDE_training.pkl done!\n",
      "Round 200 of data/RSRDE_training/uniform_fixed_small_RSRDE_training.pkl done!\n",
      "--------------------\n",
      "All done with RSRDE training on uniform_fixed_small!\n",
      "1100.554603099823\n"
     ]
    }
   ],
   "source": [
    "init_name = \"uniform_fixed_small\"\n",
    "init = initializations[init_name]\n",
    "start = time.time()\n",
    "train_rsrde(Lock(), init, init_name)\n",
    "end = time.time()\n",
    "print(end - start)"
   ]
  },
  {
   "cell_type": "code",
   "execution_count": null,
   "metadata": {},
   "outputs": [],
   "source": []
  }
 ],
 "metadata": {
  "kernelspec": {
   "display_name": "base",
   "language": "python",
   "name": "python3"
  },
  "language_info": {
   "codemirror_mode": {
    "name": "ipython",
    "version": 3
   },
   "file_extension": ".py",
   "mimetype": "text/x-python",
   "name": "python",
   "nbconvert_exporter": "python",
   "pygments_lexer": "ipython3",
   "version": "3.11.3"
  }
 },
 "nbformat": 4,
 "nbformat_minor": 2
}
