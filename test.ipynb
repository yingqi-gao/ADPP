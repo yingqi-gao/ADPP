{
 "cells": [
  {
   "cell_type": "code",
   "execution_count": null,
   "metadata": {},
   "outputs": [],
   "source": [
    "import dill \n",
    "\n",
    "with open(\"data/initializations.pkl\", \"rb\") as file:\n",
    "        initializations = dill.load(file)"
   ]
  },
  {
   "cell_type": "code",
   "execution_count": null,
   "metadata": {},
   "outputs": [],
   "source": [
    "initializations.keys()"
   ]
  },
  {
   "cell_type": "code",
   "execution_count": null,
   "metadata": {},
   "outputs": [],
   "source": [
    "from run_auctions import run_auctions\n",
    "from multiprocessing import Lock\n",
    "import time"
   ]
  },
  {
   "cell_type": "code",
   "execution_count": null,
   "metadata": {},
   "outputs": [],
   "source": [
    "init_name = \"uniform_fixed_small\"\n",
    "init = initializations[init_name]\n",
    "with open(\"data/RSRDE_training/\" + init_name + \"_RSRDE_training.pkl\", \"rb\") as file:\n",
    "    training_results = dill.load(file)\n",
    "start = time.time()\n",
    "run_auctions(Lock(), init, init_name, \"RSRDE\", training_results)\n",
    "end = time.time()\n",
    "print(end - start)"
   ]
  },
  {
   "cell_type": "code",
   "execution_count": 2,
   "metadata": {},
   "outputs": [],
   "source": [
    "from initialize_auctions import get_initializations\n",
    "import dill"
   ]
  },
  {
   "cell_type": "code",
   "execution_count": null,
   "metadata": {},
   "outputs": [],
   "source": [
    "initializations = get_initializations(\"uniform\", 10)\n",
    "with open(\"data/inits/uniform_10.pkl\", \"wb\") as file:\n",
    "    dill.dump(initializations, file)"
   ]
  },
  {
   "cell_type": "code",
   "execution_count": null,
   "metadata": {},
   "outputs": [],
   "source": [
    "initializations[7].bids_list[10]"
   ]
  },
  {
   "cell_type": "code",
   "execution_count": 3,
   "metadata": {},
   "outputs": [],
   "source": [
    "from train_rsrde import train_rsrde\n",
    "import dill"
   ]
  },
  {
   "cell_type": "code",
   "execution_count": 3,
   "metadata": {},
   "outputs": [],
   "source": [
    "with open(\"data/inits/uniform_10.pkl\", \"rb\") as file:\n",
    "    initializations = dill.load(file)"
   ]
  },
  {
   "cell_type": "code",
   "execution_count": 3,
   "metadata": {},
   "outputs": [],
   "source": [
    "from multiprocessing import Lock"
   ]
  },
  {
   "cell_type": "code",
   "execution_count": 4,
   "metadata": {},
   "outputs": [
    {
     "name": "stdout",
     "output_type": "stream",
     "text": [
      "Round 10 of data/RSRDE_training/uniform_10_RSRDE_training.pkl done!\n",
      "Round 20 of data/RSRDE_training/uniform_10_RSRDE_training.pkl done!\n",
      "Round 30 of data/RSRDE_training/uniform_10_RSRDE_training.pkl done!\n",
      "Round 40 of data/RSRDE_training/uniform_10_RSRDE_training.pkl done!\n",
      "Round 50 of data/RSRDE_training/uniform_10_RSRDE_training.pkl done!\n",
      "Round 60 of data/RSRDE_training/uniform_10_RSRDE_training.pkl done!\n",
      "Round 70 of data/RSRDE_training/uniform_10_RSRDE_training.pkl done!\n",
      "Round 80 of data/RSRDE_training/uniform_10_RSRDE_training.pkl done!\n",
      "Round 90 of data/RSRDE_training/uniform_10_RSRDE_training.pkl done!\n",
      "Round 100 of data/RSRDE_training/uniform_10_RSRDE_training.pkl done!\n",
      "Round 110 of data/RSRDE_training/uniform_10_RSRDE_training.pkl done!\n",
      "Round 120 of data/RSRDE_training/uniform_10_RSRDE_training.pkl done!\n",
      "Round 130 of data/RSRDE_training/uniform_10_RSRDE_training.pkl done!\n",
      "Round 140 of data/RSRDE_training/uniform_10_RSRDE_training.pkl done!\n",
      "Round 150 of data/RSRDE_training/uniform_10_RSRDE_training.pkl done!\n",
      "Round 160 of data/RSRDE_training/uniform_10_RSRDE_training.pkl done!\n",
      "Round 170 of data/RSRDE_training/uniform_10_RSRDE_training.pkl done!\n",
      "Round 180 of data/RSRDE_training/uniform_10_RSRDE_training.pkl done!\n",
      "Round 190 of data/RSRDE_training/uniform_10_RSRDE_training.pkl done!\n",
      "Round 200 of data/RSRDE_training/uniform_10_RSRDE_training.pkl done!\n",
      "--------------------\n",
      "All done with RSRDE training on uniform_10!\n"
     ]
    }
   ],
   "source": [
    "train_rsrde(Lock(), initializations, \"uniform_10\")"
   ]
  },
  {
   "cell_type": "code",
   "execution_count": 4,
   "metadata": {},
   "outputs": [],
   "source": [
    "with open(\"data/RSRDE_training/uniform_10_RSRDE_training.pkl\", \"rb\") as file:\n",
    "    training_results = dill.load(file)"
   ]
  },
  {
   "cell_type": "code",
   "execution_count": 1,
   "metadata": {},
   "outputs": [],
   "source": [
    "from _classes_auction import RSRDEAuction"
   ]
  },
  {
   "cell_type": "code",
   "execution_count": 6,
   "metadata": {},
   "outputs": [
    {
     "name": "stdout",
     "output_type": "stream",
     "text": [
      "Round 0 done!\n",
      "Round 1 done!\n",
      "Round 2 done!\n",
      "Round 3 done!\n",
      "Round 4 done!\n",
      "Round 5 done!\n",
      "Round 6 done!\n",
      "Round 7 done!\n",
      "Round 8 done!\n",
      "Round 9 done!\n",
      "Round 10 done!\n",
      "Round 11 done!\n",
      "Round 12 done!\n",
      "Round 13 done!\n",
      "Round 14 done!\n",
      "Round 15 done!\n",
      "Round 16 done!\n",
      "Round 17 done!\n",
      "Round 18 done!\n",
      "Round 19 done!\n",
      "Round 20 done!\n",
      "Round 21 done!\n",
      "Round 22 done!\n",
      "Round 23 done!\n",
      "Round 24 done!\n",
      "Round 25 done!\n",
      "Round 26 done!\n",
      "Round 27 done!\n"
     ]
    },
    {
     "name": "stderr",
     "output_type": "stream",
     "text": [
      "R[write to console]: Error: vector memory exhausted (limit reached?)\n",
      "\n",
      "R[write to console]: Error: no more error handlers available (recursive errors?); invoking 'abort' restart\n",
      "\n"
     ]
    },
    {
     "ename": "RRuntimeError",
     "evalue": "Error: vector memory exhausted (limit reached?)\n",
     "output_type": "error",
     "traceback": [
      "\u001b[0;31m---------------------------------------------------------------------------\u001b[0m",
      "\u001b[0;31mRRuntimeError\u001b[0m                             Traceback (most recent call last)",
      "Cell \u001b[0;32mIn[6], line 10\u001b[0m\n\u001b[1;32m      8\u001b[0m     training_history \u001b[38;5;241m=\u001b[39m training_results[i]\n\u001b[1;32m      9\u001b[0m     \u001b[38;5;28;01mfor\u001b[39;00m j \u001b[38;5;129;01min\u001b[39;00m \u001b[38;5;28mrange\u001b[39m(\u001b[38;5;241m200\u001b[39m):\n\u001b[0;32m---> 10\u001b[0m         RSRDE_reps\u001b[38;5;241m.\u001b[39mappend(RSRDEAuction(init, training_history \u001b[38;5;241m=\u001b[39m training_history, random_seed \u001b[38;5;241m=\u001b[39m j))\n\u001b[1;32m     11\u001b[0m \u001b[38;5;28mprint\u001b[39m(\u001b[38;5;124mf\u001b[39m\u001b[38;5;124m\"\u001b[39m\u001b[38;5;124mRound \u001b[39m\u001b[38;5;132;01m{\u001b[39;00mi\u001b[38;5;132;01m}\u001b[39;00m\u001b[38;5;124m done!\u001b[39m\u001b[38;5;124m\"\u001b[39m)\n\u001b[1;32m     12\u001b[0m \u001b[38;5;28;01mwith\u001b[39;00m \u001b[38;5;28mopen\u001b[39m(\u001b[38;5;124m\"\u001b[39m\u001b[38;5;124muniform_10_RSRDE_200.pkl\u001b[39m\u001b[38;5;124m\"\u001b[39m, \u001b[38;5;124m\"\u001b[39m\u001b[38;5;124mwb\u001b[39m\u001b[38;5;124m\"\u001b[39m) \u001b[38;5;28;01mas\u001b[39;00m file:\n",
      "File \u001b[0;32m<string>:7\u001b[0m, in \u001b[0;36m__init__\u001b[0;34m(self, initialization, pricing_mechanism, random_seed, training_history, RSRDE_method)\u001b[0m\n",
      "File \u001b[0;32m~/Desktop/ADPP/_classes_auction.py:72\u001b[0m, in \u001b[0;36mRSRDEAuction.__post_init__\u001b[0;34m(self, training_history)\u001b[0m\n\u001b[1;32m     71\u001b[0m \u001b[38;5;28;01mdef\u001b[39;00m \u001b[38;5;21m__post_init__\u001b[39m(\u001b[38;5;28mself\u001b[39m, training_history):\n\u001b[0;32m---> 72\u001b[0m     \u001b[38;5;28mself\u001b[39m\u001b[38;5;241m.\u001b[39mactual_price, \u001b[38;5;28mself\u001b[39m\u001b[38;5;241m.\u001b[39mestimated_cdfs \u001b[38;5;241m=\u001b[39m RSRDE(\u001b[38;5;28mself\u001b[39m\u001b[38;5;241m.\u001b[39minitialization\u001b[38;5;241m.\u001b[39mbids, \n\u001b[1;32m     73\u001b[0m                                                    lower \u001b[38;5;241m=\u001b[39m \u001b[38;5;28mself\u001b[39m\u001b[38;5;241m.\u001b[39minitialization\u001b[38;5;241m.\u001b[39mtrue_dist\u001b[38;5;241m.\u001b[39mlower, \n\u001b[1;32m     74\u001b[0m                                                    upper \u001b[38;5;241m=\u001b[39m \u001b[38;5;28mself\u001b[39m\u001b[38;5;241m.\u001b[39minitialization\u001b[38;5;241m.\u001b[39mtrue_dist\u001b[38;5;241m.\u001b[39mupper, \n\u001b[1;32m     75\u001b[0m                                                    random_seed \u001b[38;5;241m=\u001b[39m \u001b[38;5;28mself\u001b[39m\u001b[38;5;241m.\u001b[39mrandom_seed,\n\u001b[1;32m     76\u001b[0m                                                    method \u001b[38;5;241m=\u001b[39m \u001b[38;5;28mself\u001b[39m\u001b[38;5;241m.\u001b[39mRSRDE_method,\n\u001b[1;32m     77\u001b[0m                                                    training_results \u001b[38;5;241m=\u001b[39m training_history)\n\u001b[1;32m     78\u001b[0m     \u001b[38;5;28msuper\u001b[39m()\u001b[38;5;241m.\u001b[39m__post_init__(training_history)\n",
      "File \u001b[0;32m~/Desktop/ADPP/_pricing_mechanisms.py:105\u001b[0m, in \u001b[0;36mRSRDE\u001b[0;34m(bids, lower, upper, random_seed, method, training_results)\u001b[0m\n\u001b[1;32m    100\u001b[0m \u001b[38;5;66;03m# Step 2: Estimate density within each group.\u001b[39;00m\n\u001b[1;32m    101\u001b[0m cdf1 \u001b[38;5;241m=\u001b[39m rde_testing_py(test_obs_at_t \u001b[38;5;241m=\u001b[39m [\u001b[38;5;241m*\u001b[39mgroup1\u001b[38;5;241m.\u001b[39mvalues()], \n\u001b[1;32m    102\u001b[0m                       method \u001b[38;5;241m=\u001b[39m method,\n\u001b[1;32m    103\u001b[0m                       lower \u001b[38;5;241m=\u001b[39m lower,\n\u001b[1;32m    104\u001b[0m                       training_results \u001b[38;5;241m=\u001b[39m training_results)\n\u001b[0;32m--> 105\u001b[0m cdf2 \u001b[38;5;241m=\u001b[39m rde_testing_py(test_obs_at_t \u001b[38;5;241m=\u001b[39m [\u001b[38;5;241m*\u001b[39mgroup2\u001b[38;5;241m.\u001b[39mvalues()], \n\u001b[1;32m    106\u001b[0m                       method \u001b[38;5;241m=\u001b[39m method,\n\u001b[1;32m    107\u001b[0m                       lower \u001b[38;5;241m=\u001b[39m lower,\n\u001b[1;32m    108\u001b[0m                       training_results \u001b[38;5;241m=\u001b[39m training_results)\n\u001b[1;32m    110\u001b[0m \u001b[38;5;66;03m# Step 3: Find the optimal estimated price for each group.\u001b[39;00m\n\u001b[1;32m    111\u001b[0m price1, rev1 \u001b[38;5;241m=\u001b[39m max_epc_rev(cdf1, lower, upper)\n",
      "File \u001b[0;32m~/Desktop/ADPP/_py_density_estimation.py:188\u001b[0m, in \u001b[0;36mrde_testing_py\u001b[0;34m(test_obs_at_t, method, lower, training_results)\u001b[0m\n\u001b[1;32m    185\u001b[0m method \u001b[38;5;241m=\u001b[39m \u001b[38;5;124m\"\u001b[39m\u001b[38;5;124mFPCA_\u001b[39m\u001b[38;5;124m\"\u001b[39m \u001b[38;5;241m+\u001b[39m method\n\u001b[1;32m    187\u001b[0m \u001b[38;5;66;03m# Step 2: Call and run the repeated density estimation in R. \u001b[39;00m\n\u001b[0;32m--> 188\u001b[0m cdf \u001b[38;5;241m=\u001b[39m robjects\u001b[38;5;241m.\u001b[39mr[\u001b[38;5;124m\"\u001b[39m\u001b[38;5;124mrde_testing_r\u001b[39m\u001b[38;5;124m\"\u001b[39m](test_obs_at_t \u001b[38;5;241m=\u001b[39m test_obs_at_t,\n\u001b[1;32m    189\u001b[0m                                   method \u001b[38;5;241m=\u001b[39m method,\n\u001b[1;32m    190\u001b[0m                                   lower \u001b[38;5;241m=\u001b[39m lower,\n\u001b[1;32m    191\u001b[0m                                   training_results \u001b[38;5;241m=\u001b[39m training_results)\n\u001b[1;32m    193\u001b[0m \u001b[38;5;28;01mreturn\u001b[39;00m r2py_func_wrapper(cdf)\n",
      "File \u001b[0;32m~/anaconda3/lib/python3.11/site-packages/rpy2/robjects/functions.py:208\u001b[0m, in \u001b[0;36mSignatureTranslatedFunction.__call__\u001b[0;34m(self, *args, **kwargs)\u001b[0m\n\u001b[1;32m    206\u001b[0m         v \u001b[38;5;241m=\u001b[39m kwargs\u001b[38;5;241m.\u001b[39mpop(k)\n\u001b[1;32m    207\u001b[0m         kwargs[r_k] \u001b[38;5;241m=\u001b[39m v\n\u001b[0;32m--> 208\u001b[0m \u001b[38;5;28;01mreturn\u001b[39;00m (\u001b[38;5;28msuper\u001b[39m(SignatureTranslatedFunction, \u001b[38;5;28mself\u001b[39m)\n\u001b[1;32m    209\u001b[0m         \u001b[38;5;241m.\u001b[39m\u001b[38;5;21m__call__\u001b[39m(\u001b[38;5;241m*\u001b[39margs, \u001b[38;5;241m*\u001b[39m\u001b[38;5;241m*\u001b[39mkwargs))\n",
      "File \u001b[0;32m~/anaconda3/lib/python3.11/site-packages/rpy2/robjects/functions.py:130\u001b[0m, in \u001b[0;36mFunction.__call__\u001b[0;34m(self, *args, **kwargs)\u001b[0m\n\u001b[1;32m    128\u001b[0m         new_kwargs[k] \u001b[38;5;241m=\u001b[39m v\n\u001b[1;32m    129\u001b[0m     \u001b[38;5;28;01melse\u001b[39;00m:\n\u001b[0;32m--> 130\u001b[0m         new_kwargs[k] \u001b[38;5;241m=\u001b[39m cv\u001b[38;5;241m.\u001b[39mpy2rpy(v)\n\u001b[1;32m    131\u001b[0m res \u001b[38;5;241m=\u001b[39m \u001b[38;5;28msuper\u001b[39m(Function, \u001b[38;5;28mself\u001b[39m)\u001b[38;5;241m.\u001b[39m\u001b[38;5;21m__call__\u001b[39m(\u001b[38;5;241m*\u001b[39mnew_args, \u001b[38;5;241m*\u001b[39m\u001b[38;5;241m*\u001b[39mnew_kwargs)\n\u001b[1;32m    132\u001b[0m res \u001b[38;5;241m=\u001b[39m cv\u001b[38;5;241m.\u001b[39mrpy2py(res)\n",
      "File \u001b[0;32m~/anaconda3/lib/python3.11/functools.py:909\u001b[0m, in \u001b[0;36msingledispatch.<locals>.wrapper\u001b[0;34m(*args, **kw)\u001b[0m\n\u001b[1;32m    905\u001b[0m \u001b[38;5;28;01mif\u001b[39;00m \u001b[38;5;129;01mnot\u001b[39;00m args:\n\u001b[1;32m    906\u001b[0m     \u001b[38;5;28;01mraise\u001b[39;00m \u001b[38;5;167;01mTypeError\u001b[39;00m(\u001b[38;5;124mf\u001b[39m\u001b[38;5;124m'\u001b[39m\u001b[38;5;132;01m{\u001b[39;00mfuncname\u001b[38;5;132;01m}\u001b[39;00m\u001b[38;5;124m requires at least \u001b[39m\u001b[38;5;124m'\u001b[39m\n\u001b[1;32m    907\u001b[0m                     \u001b[38;5;124m'\u001b[39m\u001b[38;5;124m1 positional argument\u001b[39m\u001b[38;5;124m'\u001b[39m)\n\u001b[0;32m--> 909\u001b[0m \u001b[38;5;28;01mreturn\u001b[39;00m dispatch(args[\u001b[38;5;241m0\u001b[39m]\u001b[38;5;241m.\u001b[39m\u001b[38;5;18m__class__\u001b[39m)(\u001b[38;5;241m*\u001b[39margs, \u001b[38;5;241m*\u001b[39m\u001b[38;5;241m*\u001b[39mkw)\n",
      "File \u001b[0;32m~/anaconda3/lib/python3.11/site-packages/rpy2/robjects/numpy2ri.py:153\u001b[0m, in \u001b[0;36morddict_py2rpy\u001b[0;34m(obj)\u001b[0m\n\u001b[1;32m    150\u001b[0m \u001b[38;5;28;01mwith\u001b[39;00m conversion\u001b[38;5;241m.\u001b[39mget_conversion()\u001b[38;5;241m.\u001b[39mcontext() \u001b[38;5;28;01mas\u001b[39;00m cv:\n\u001b[1;32m    151\u001b[0m     \u001b[38;5;66;03m# TODO: OrdDict.values() is broken. Use .items() for now.\u001b[39;00m\n\u001b[1;32m    152\u001b[0m     \u001b[38;5;28;01mfor\u001b[39;00m i, (k, v) \u001b[38;5;129;01min\u001b[39;00m \u001b[38;5;28menumerate\u001b[39m(obj\u001b[38;5;241m.\u001b[39mitems()):\n\u001b[0;32m--> 153\u001b[0m         rlist[i] \u001b[38;5;241m=\u001b[39m cv\u001b[38;5;241m.\u001b[39mpy2rpy(v)\n\u001b[1;32m    154\u001b[0m \u001b[38;5;28;01mreturn\u001b[39;00m rlist\n",
      "File \u001b[0;32m~/anaconda3/lib/python3.11/functools.py:909\u001b[0m, in \u001b[0;36msingledispatch.<locals>.wrapper\u001b[0;34m(*args, **kw)\u001b[0m\n\u001b[1;32m    905\u001b[0m \u001b[38;5;28;01mif\u001b[39;00m \u001b[38;5;129;01mnot\u001b[39;00m args:\n\u001b[1;32m    906\u001b[0m     \u001b[38;5;28;01mraise\u001b[39;00m \u001b[38;5;167;01mTypeError\u001b[39;00m(\u001b[38;5;124mf\u001b[39m\u001b[38;5;124m'\u001b[39m\u001b[38;5;132;01m{\u001b[39;00mfuncname\u001b[38;5;132;01m}\u001b[39;00m\u001b[38;5;124m requires at least \u001b[39m\u001b[38;5;124m'\u001b[39m\n\u001b[1;32m    907\u001b[0m                     \u001b[38;5;124m'\u001b[39m\u001b[38;5;124m1 positional argument\u001b[39m\u001b[38;5;124m'\u001b[39m)\n\u001b[0;32m--> 909\u001b[0m \u001b[38;5;28;01mreturn\u001b[39;00m dispatch(args[\u001b[38;5;241m0\u001b[39m]\u001b[38;5;241m.\u001b[39m\u001b[38;5;18m__class__\u001b[39m)(\u001b[38;5;241m*\u001b[39margs, \u001b[38;5;241m*\u001b[39m\u001b[38;5;241m*\u001b[39mkw)\n",
      "File \u001b[0;32m~/anaconda3/lib/python3.11/site-packages/rpy2/robjects/numpy2ri.py:153\u001b[0m, in \u001b[0;36morddict_py2rpy\u001b[0;34m(obj)\u001b[0m\n\u001b[1;32m    150\u001b[0m \u001b[38;5;28;01mwith\u001b[39;00m conversion\u001b[38;5;241m.\u001b[39mget_conversion()\u001b[38;5;241m.\u001b[39mcontext() \u001b[38;5;28;01mas\u001b[39;00m cv:\n\u001b[1;32m    151\u001b[0m     \u001b[38;5;66;03m# TODO: OrdDict.values() is broken. Use .items() for now.\u001b[39;00m\n\u001b[1;32m    152\u001b[0m     \u001b[38;5;28;01mfor\u001b[39;00m i, (k, v) \u001b[38;5;129;01min\u001b[39;00m \u001b[38;5;28menumerate\u001b[39m(obj\u001b[38;5;241m.\u001b[39mitems()):\n\u001b[0;32m--> 153\u001b[0m         rlist[i] \u001b[38;5;241m=\u001b[39m cv\u001b[38;5;241m.\u001b[39mpy2rpy(v)\n\u001b[1;32m    154\u001b[0m \u001b[38;5;28;01mreturn\u001b[39;00m rlist\n",
      "File \u001b[0;32m~/anaconda3/lib/python3.11/functools.py:909\u001b[0m, in \u001b[0;36msingledispatch.<locals>.wrapper\u001b[0;34m(*args, **kw)\u001b[0m\n\u001b[1;32m    905\u001b[0m \u001b[38;5;28;01mif\u001b[39;00m \u001b[38;5;129;01mnot\u001b[39;00m args:\n\u001b[1;32m    906\u001b[0m     \u001b[38;5;28;01mraise\u001b[39;00m \u001b[38;5;167;01mTypeError\u001b[39;00m(\u001b[38;5;124mf\u001b[39m\u001b[38;5;124m'\u001b[39m\u001b[38;5;132;01m{\u001b[39;00mfuncname\u001b[38;5;132;01m}\u001b[39;00m\u001b[38;5;124m requires at least \u001b[39m\u001b[38;5;124m'\u001b[39m\n\u001b[1;32m    907\u001b[0m                     \u001b[38;5;124m'\u001b[39m\u001b[38;5;124m1 positional argument\u001b[39m\u001b[38;5;124m'\u001b[39m)\n\u001b[0;32m--> 909\u001b[0m \u001b[38;5;28;01mreturn\u001b[39;00m dispatch(args[\u001b[38;5;241m0\u001b[39m]\u001b[38;5;241m.\u001b[39m\u001b[38;5;18m__class__\u001b[39m)(\u001b[38;5;241m*\u001b[39margs, \u001b[38;5;241m*\u001b[39m\u001b[38;5;241m*\u001b[39mkw)\n",
      "File \u001b[0;32m~/anaconda3/lib/python3.11/site-packages/rpy2/robjects/numpy2ri.py:96\u001b[0m, in \u001b[0;36mnumpy2rpy\u001b[0;34m(o)\u001b[0m\n\u001b[1;32m     94\u001b[0m \u001b[38;5;66;03m# Most types map onto R arrays:\u001b[39;00m\n\u001b[1;32m     95\u001b[0m \u001b[38;5;28;01mif\u001b[39;00m o\u001b[38;5;241m.\u001b[39mdtype\u001b[38;5;241m.\u001b[39mkind \u001b[38;5;129;01min\u001b[39;00m _kinds:\n\u001b[0;32m---> 96\u001b[0m     res \u001b[38;5;241m=\u001b[39m _numpyarray_to_r(o, _kinds[o\u001b[38;5;241m.\u001b[39mdtype\u001b[38;5;241m.\u001b[39mkind])\n\u001b[1;32m     97\u001b[0m \u001b[38;5;66;03m# R does not support unsigned types:\u001b[39;00m\n\u001b[1;32m     98\u001b[0m \u001b[38;5;28;01melif\u001b[39;00m o\u001b[38;5;241m.\u001b[39mdtype\u001b[38;5;241m.\u001b[39mkind \u001b[38;5;241m==\u001b[39m \u001b[38;5;124m'\u001b[39m\u001b[38;5;124mu\u001b[39m\u001b[38;5;124m'\u001b[39m:\n",
      "File \u001b[0;32m~/anaconda3/lib/python3.11/site-packages/rpy2/robjects/numpy2ri.py:68\u001b[0m, in \u001b[0;36m_numpyarray_to_r\u001b[0;34m(a, func)\u001b[0m\n\u001b[1;32m     64\u001b[0m \u001b[38;5;66;03m# TODO: no dimnames ?\u001b[39;00m\n\u001b[1;32m     65\u001b[0m \u001b[38;5;66;03m# TODO: optimize what is below needed/possible ?\u001b[39;00m\n\u001b[1;32m     66\u001b[0m \u001b[38;5;66;03m#  (other ways to create R arrays ?)\u001b[39;00m\n\u001b[1;32m     67\u001b[0m dim \u001b[38;5;241m=\u001b[39m ro\u001b[38;5;241m.\u001b[39mvectors\u001b[38;5;241m.\u001b[39mIntVector(a\u001b[38;5;241m.\u001b[39mshape)\n\u001b[0;32m---> 68\u001b[0m res \u001b[38;5;241m=\u001b[39m rinterface\u001b[38;5;241m.\u001b[39mbaseenv[\u001b[38;5;124m'\u001b[39m\u001b[38;5;124marray\u001b[39m\u001b[38;5;124m'\u001b[39m](vec, dim\u001b[38;5;241m=\u001b[39mdim)\n\u001b[1;32m     69\u001b[0m \u001b[38;5;28;01mreturn\u001b[39;00m res\n",
      "File \u001b[0;32m~/anaconda3/lib/python3.11/site-packages/rpy2/rinterface_lib/conversion.py:45\u001b[0m, in \u001b[0;36m_cdata_res_to_rinterface.<locals>._\u001b[0;34m(*args, **kwargs)\u001b[0m\n\u001b[1;32m     44\u001b[0m \u001b[38;5;28;01mdef\u001b[39;00m \u001b[38;5;21m_\u001b[39m(\u001b[38;5;241m*\u001b[39margs, \u001b[38;5;241m*\u001b[39m\u001b[38;5;241m*\u001b[39mkwargs):\n\u001b[0;32m---> 45\u001b[0m     cdata \u001b[38;5;241m=\u001b[39m function(\u001b[38;5;241m*\u001b[39margs, \u001b[38;5;241m*\u001b[39m\u001b[38;5;241m*\u001b[39mkwargs)\n\u001b[1;32m     46\u001b[0m     \u001b[38;5;66;03m# TODO: test cdata is of the expected CType\u001b[39;00m\n\u001b[1;32m     47\u001b[0m     \u001b[38;5;28;01mreturn\u001b[39;00m _cdata_to_rinterface(cdata)\n",
      "File \u001b[0;32m~/anaconda3/lib/python3.11/site-packages/rpy2/rinterface.py:869\u001b[0m, in \u001b[0;36mSexpClosure.__call__\u001b[0;34m(self, *args, **kwargs)\u001b[0m\n\u001b[1;32m    862\u001b[0m     res \u001b[38;5;241m=\u001b[39m rmemory\u001b[38;5;241m.\u001b[39mprotect(\n\u001b[1;32m    863\u001b[0m         openrlib\u001b[38;5;241m.\u001b[39mrlib\u001b[38;5;241m.\u001b[39mR_tryEval(\n\u001b[1;32m    864\u001b[0m             call_r,\n\u001b[1;32m    865\u001b[0m             call_context\u001b[38;5;241m.\u001b[39m__sexp__\u001b[38;5;241m.\u001b[39m_cdata,\n\u001b[1;32m    866\u001b[0m             error_occured)\n\u001b[1;32m    867\u001b[0m     )\n\u001b[1;32m    868\u001b[0m     \u001b[38;5;28;01mif\u001b[39;00m error_occured[\u001b[38;5;241m0\u001b[39m]:\n\u001b[0;32m--> 869\u001b[0m         \u001b[38;5;28;01mraise\u001b[39;00m embedded\u001b[38;5;241m.\u001b[39mRRuntimeError(_rinterface\u001b[38;5;241m.\u001b[39m_geterrmessage())\n\u001b[1;32m    870\u001b[0m \u001b[38;5;28;01mreturn\u001b[39;00m res\n",
      "\u001b[0;31mRRuntimeError\u001b[0m: Error: vector memory exhausted (limit reached?)\n"
     ]
    }
   ],
   "source": [
    "RSRDE_results = []\n",
    "for i in range(200):\n",
    "    if i < 20:\n",
    "        RSRDE_results.append(None)\n",
    "    else:\n",
    "        RSRDE_reps = []\n",
    "        init = initializations[i]\n",
    "        training_history = training_results[i]\n",
    "        for j in range(200):\n",
    "            RSRDE_reps.append(RSRDEAuction(init, training_history = training_history, random_seed = j))\n",
    "    print(f\"Round {i} done!\")\n",
    "    with open(\"uniform_10_RSRDE_200.pkl\", \"wb\") as file:\n",
    "        dill.dump(RSRDE_results, file)"
   ]
  }
 ],
 "metadata": {
  "kernelspec": {
   "display_name": "base",
   "language": "python",
   "name": "python3"
  },
  "language_info": {
   "codemirror_mode": {
    "name": "ipython",
    "version": 3
   },
   "file_extension": ".py",
   "mimetype": "text/x-python",
   "name": "python",
   "nbconvert_exporter": "python",
   "pygments_lexer": "ipython3",
   "version": "3.11.3"
  }
 },
 "nbformat": 4,
 "nbformat_minor": 2
}
