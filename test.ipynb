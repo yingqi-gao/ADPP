{
 "cells": [
  {
   "cell_type": "code",
   "execution_count": 10,
   "metadata": {},
   "outputs": [],
   "source": [
    "import pickle\n",
    "import rpy2.robjects as robjects"
   ]
  },
  {
   "cell_type": "code",
   "execution_count": 15,
   "metadata": {},
   "outputs": [],
   "source": [
    "# Retrieve histories\n",
    "with open(\"histories.pkl\", \"rb\") as file:\n",
    "        histories = pickle.load(file)"
   ]
  },
  {
   "cell_type": "code",
   "execution_count": 1,
   "metadata": {},
   "outputs": [
    {
     "name": "stderr",
     "output_type": "stream",
     "text": [
      "R[write to console]: Loading required package: spatstat.data\n",
      "\n",
      "R[write to console]: Loading required package: spatstat.geom\n",
      "\n",
      "R[write to console]: spatstat.geom 3.2-9\n",
      "\n",
      "R[write to console]: Loading required package: spatstat.random\n",
      "\n",
      "R[write to console]: spatstat.random 3.2-3\n",
      "\n",
      "R[write to console]: Loading required package: spatstat.explore\n",
      "\n",
      "R[write to console]: Loading required package: nlme\n",
      "\n",
      "R[write to console]: spatstat.explore 3.2-7\n",
      "\n",
      "R[write to console]: Loading required package: spatstat.model\n",
      "\n",
      "R[write to console]: Loading required package: rpart\n",
      "\n",
      "R[write to console]: spatstat.model 3.2-11\n",
      "\n",
      "R[write to console]: Loading required package: spatstat.linnet\n",
      "\n",
      "R[write to console]: spatstat.linnet 3.1-5\n",
      "\n",
      "R[write to console]: \n",
      "spatstat 3.0-8 \n",
      "For an introduction to spatstat, type ‘beginner’ \n",
      "\n",
      "\n",
      "R[write to console]: Automatically defined maxK cannot be less than 1. Reset to maxK = 1 now!\n",
      "\n",
      "\n",
      "R[write to console]: The sample size is less or equal to 3 curves. Be cautious!\n",
      "\n",
      "\n"
     ]
    }
   ],
   "source": [
    "from _py_density_estimation import rde_py, get_bw\n",
    "import numpy as np\n"
   ]
  },
  {
   "cell_type": "code",
   "execution_count": 2,
   "metadata": {},
   "outputs": [
    {
     "name": "stderr",
     "output_type": "stream",
     "text": [
      "R[write to console]: Automatically defined maxK cannot be less than 1. Reset to maxK = 1 now!\n",
      "\n",
      "\n",
      "R[write to console]: The sample size is less or equal to 3 curves. Be cautious!\n",
      "\n",
      "\n"
     ]
    }
   ],
   "source": [
    "train_bids = [np.random.normal(size=20).tolist(), np.random.normal(size=20).tolist()]\n",
    "train_bws = [get_bw(item) for item in train_bids]\n",
    "test_f = rde_py(np.random.normal(size=20).tolist(), -1, 1, train_hist=train_bids, train_bws = train_bws)\n"
   ]
  },
  {
   "cell_type": "code",
   "execution_count": 3,
   "metadata": {},
   "outputs": [
    {
     "data": {
      "text/plain": [
       "4.653455780447743"
      ]
     },
     "execution_count": 3,
     "metadata": {},
     "output_type": "execute_result"
    }
   ],
   "source": [
    "test_f(10)"
   ]
  },
  {
   "cell_type": "code",
   "execution_count": null,
   "metadata": {},
   "outputs": [],
   "source": []
  }
 ],
 "metadata": {
  "kernelspec": {
   "display_name": "base",
   "language": "python",
   "name": "python3"
  },
  "language_info": {
   "codemirror_mode": {
    "name": "ipython",
    "version": 3
   },
   "file_extension": ".py",
   "mimetype": "text/x-python",
   "name": "python",
   "nbconvert_exporter": "python",
   "pygments_lexer": "ipython3",
   "version": "3.11.3"
  }
 },
 "nbformat": 4,
 "nbformat_minor": 2
}
