{
 "cells": [
  {
   "cell_type": "code",
   "execution_count": 3,
   "metadata": {},
   "outputs": [],
   "source": [
    "import dill \n",
    "\n",
    "with open(\"data/initializations.pkl\", \"rb\") as file:\n",
    "        initializations = dill.load(file)"
   ]
  },
  {
   "cell_type": "code",
   "execution_count": 4,
   "metadata": {},
   "outputs": [
    {
     "data": {
      "text/plain": [
       "dict_keys(['uniform_fixed_small', 'uniform_fixed_large', 'uniform_floated_small', 'uniform_floated_large', 'normal_fixed_small', 'normal_fixed_large', 'normal_floated_small', 'normal_floated_large', 'exponential_fixed_small', 'exponential_fixed_large', 'exponential_floated_small', 'exponential_floated_large'])"
      ]
     },
     "execution_count": 4,
     "metadata": {},
     "output_type": "execute_result"
    }
   ],
   "source": [
    "initializations.keys()"
   ]
  },
  {
   "cell_type": "code",
   "execution_count": 1,
   "metadata": {},
   "outputs": [],
   "source": [
    "from _py_density_estimation import rde_training_py, rde_testing_py"
   ]
  },
  {
   "cell_type": "code",
   "execution_count": 3,
   "metadata": {},
   "outputs": [
    {
     "name": "stderr",
     "output_type": "stream",
     "text": [
      "R[write to console]: Automatically defined maxK cannot be less than 1. Reset to maxK = 1 now!\n",
      "\n",
      "\n",
      "R[write to console]: The sample size is less or equal to 3 curves. Be cautious!\n",
      "\n",
      "\n"
     ]
    }
   ],
   "source": [
    "results = rde_training_py(train_hist=[[1, 2, 3], [4, 5, 6]], train_bws=[1, 2], lower=0, upper=10)"
   ]
  },
  {
   "cell_type": "code",
   "execution_count": 4,
   "metadata": {},
   "outputs": [
    {
     "name": "stderr",
     "output_type": "stream",
     "text": [
      "R[write to console]: Error in if (control$max.k > ncol(envir$fpca.res$phi)) { : \n",
      "  argument is of length zero\n",
      "\n",
      "R[write to console]: In addition: \n",
      "R[write to console]: Warning message:\n",
      "\n",
      "R[write to console]: In fpca2DenFam(fpca_res, control = list(num.k = max_k)) :\n",
      "R[write to console]: \n",
      " \n",
      "R[write to console]:  Insufficient number of eigenfucntions, num.k reset.\n",
      "\n"
     ]
    },
    {
     "ename": "RRuntimeError",
     "evalue": "Error in if (control$max.k > ncol(envir$fpca.res$phi)) { : \n  argument is of length zero\n",
     "output_type": "error",
     "traceback": [
      "\u001b[0;31m---------------------------------------------------------------------------\u001b[0m",
      "\u001b[0;31mRRuntimeError\u001b[0m                             Traceback (most recent call last)",
      "Cell \u001b[0;32mIn[4], line 1\u001b[0m\n\u001b[0;32m----> 1\u001b[0m rde_testing_py(test_obs_at_t\u001b[38;5;241m=\u001b[39m[\u001b[38;5;241m1\u001b[39m, \u001b[38;5;241m4\u001b[39m, \u001b[38;5;241m6\u001b[39m], lower\u001b[38;5;241m=\u001b[39m\u001b[38;5;241m0\u001b[39m, training_results\u001b[38;5;241m=\u001b[39mresults)\n",
      "File \u001b[0;32m~/Desktop/ADPP/_py_density_estimation.py:182\u001b[0m, in \u001b[0;36mrde_testing_py\u001b[0;34m(test_obs_at_t, method, lower, training_results)\u001b[0m\n\u001b[1;32m    179\u001b[0m method \u001b[38;5;241m=\u001b[39m \u001b[38;5;124m\"\u001b[39m\u001b[38;5;124mFPCA_\u001b[39m\u001b[38;5;124m\"\u001b[39m \u001b[38;5;241m+\u001b[39m method\n\u001b[1;32m    181\u001b[0m \u001b[38;5;66;03m# Step 2: Call and run the repeated density estimation in R. \u001b[39;00m\n\u001b[0;32m--> 182\u001b[0m cdf \u001b[38;5;241m=\u001b[39m robjects\u001b[38;5;241m.\u001b[39mr[\u001b[38;5;124m\"\u001b[39m\u001b[38;5;124mrde_testing_r\u001b[39m\u001b[38;5;124m\"\u001b[39m](test_obs_at_t \u001b[38;5;241m=\u001b[39m test_obs_at_t,\n\u001b[1;32m    183\u001b[0m                                   method \u001b[38;5;241m=\u001b[39m method,\n\u001b[1;32m    184\u001b[0m                                   lower \u001b[38;5;241m=\u001b[39m lower,\n\u001b[1;32m    185\u001b[0m                                   training_results \u001b[38;5;241m=\u001b[39m training_results)\n\u001b[1;32m    187\u001b[0m \u001b[38;5;28;01mreturn\u001b[39;00m r2py_func_wrapper(cdf)\n",
      "File \u001b[0;32m~/anaconda3/lib/python3.11/site-packages/rpy2/robjects/functions.py:208\u001b[0m, in \u001b[0;36mSignatureTranslatedFunction.__call__\u001b[0;34m(self, *args, **kwargs)\u001b[0m\n\u001b[1;32m    206\u001b[0m         v \u001b[38;5;241m=\u001b[39m kwargs\u001b[38;5;241m.\u001b[39mpop(k)\n\u001b[1;32m    207\u001b[0m         kwargs[r_k] \u001b[38;5;241m=\u001b[39m v\n\u001b[0;32m--> 208\u001b[0m \u001b[38;5;28;01mreturn\u001b[39;00m (\u001b[38;5;28msuper\u001b[39m(SignatureTranslatedFunction, \u001b[38;5;28mself\u001b[39m)\n\u001b[1;32m    209\u001b[0m         \u001b[38;5;241m.\u001b[39m\u001b[38;5;21m__call__\u001b[39m(\u001b[38;5;241m*\u001b[39margs, \u001b[38;5;241m*\u001b[39m\u001b[38;5;241m*\u001b[39mkwargs))\n",
      "File \u001b[0;32m~/anaconda3/lib/python3.11/site-packages/rpy2/robjects/functions.py:131\u001b[0m, in \u001b[0;36mFunction.__call__\u001b[0;34m(self, *args, **kwargs)\u001b[0m\n\u001b[1;32m    129\u001b[0m     \u001b[38;5;28;01melse\u001b[39;00m:\n\u001b[1;32m    130\u001b[0m         new_kwargs[k] \u001b[38;5;241m=\u001b[39m cv\u001b[38;5;241m.\u001b[39mpy2rpy(v)\n\u001b[0;32m--> 131\u001b[0m res \u001b[38;5;241m=\u001b[39m \u001b[38;5;28msuper\u001b[39m(Function, \u001b[38;5;28mself\u001b[39m)\u001b[38;5;241m.\u001b[39m\u001b[38;5;21m__call__\u001b[39m(\u001b[38;5;241m*\u001b[39mnew_args, \u001b[38;5;241m*\u001b[39m\u001b[38;5;241m*\u001b[39mnew_kwargs)\n\u001b[1;32m    132\u001b[0m res \u001b[38;5;241m=\u001b[39m cv\u001b[38;5;241m.\u001b[39mrpy2py(res)\n\u001b[1;32m    133\u001b[0m \u001b[38;5;28;01mreturn\u001b[39;00m res\n",
      "File \u001b[0;32m~/anaconda3/lib/python3.11/site-packages/rpy2/rinterface_lib/conversion.py:45\u001b[0m, in \u001b[0;36m_cdata_res_to_rinterface.<locals>._\u001b[0;34m(*args, **kwargs)\u001b[0m\n\u001b[1;32m     44\u001b[0m \u001b[38;5;28;01mdef\u001b[39;00m \u001b[38;5;21m_\u001b[39m(\u001b[38;5;241m*\u001b[39margs, \u001b[38;5;241m*\u001b[39m\u001b[38;5;241m*\u001b[39mkwargs):\n\u001b[0;32m---> 45\u001b[0m     cdata \u001b[38;5;241m=\u001b[39m function(\u001b[38;5;241m*\u001b[39margs, \u001b[38;5;241m*\u001b[39m\u001b[38;5;241m*\u001b[39mkwargs)\n\u001b[1;32m     46\u001b[0m     \u001b[38;5;66;03m# TODO: test cdata is of the expected CType\u001b[39;00m\n\u001b[1;32m     47\u001b[0m     \u001b[38;5;28;01mreturn\u001b[39;00m _cdata_to_rinterface(cdata)\n",
      "File \u001b[0;32m~/anaconda3/lib/python3.11/site-packages/rpy2/rinterface.py:869\u001b[0m, in \u001b[0;36mSexpClosure.__call__\u001b[0;34m(self, *args, **kwargs)\u001b[0m\n\u001b[1;32m    862\u001b[0m     res \u001b[38;5;241m=\u001b[39m rmemory\u001b[38;5;241m.\u001b[39mprotect(\n\u001b[1;32m    863\u001b[0m         openrlib\u001b[38;5;241m.\u001b[39mrlib\u001b[38;5;241m.\u001b[39mR_tryEval(\n\u001b[1;32m    864\u001b[0m             call_r,\n\u001b[1;32m    865\u001b[0m             call_context\u001b[38;5;241m.\u001b[39m__sexp__\u001b[38;5;241m.\u001b[39m_cdata,\n\u001b[1;32m    866\u001b[0m             error_occured)\n\u001b[1;32m    867\u001b[0m     )\n\u001b[1;32m    868\u001b[0m     \u001b[38;5;28;01mif\u001b[39;00m error_occured[\u001b[38;5;241m0\u001b[39m]:\n\u001b[0;32m--> 869\u001b[0m         \u001b[38;5;28;01mraise\u001b[39;00m embedded\u001b[38;5;241m.\u001b[39mRRuntimeError(_rinterface\u001b[38;5;241m.\u001b[39m_geterrmessage())\n\u001b[1;32m    870\u001b[0m \u001b[38;5;28;01mreturn\u001b[39;00m res\n",
      "\u001b[0;31mRRuntimeError\u001b[0m: Error in if (control$max.k > ncol(envir$fpca.res$phi)) { : \n  argument is of length zero\n"
     ]
    }
   ],
   "source": [
    "rde_testing_py(test_obs_at_t=[1, 4, 6], lower=0, training_results=results)"
   ]
  },
  {
   "cell_type": "code",
   "execution_count": null,
   "metadata": {},
   "outputs": [],
   "source": []
  }
 ],
 "metadata": {
  "kernelspec": {
   "display_name": "base",
   "language": "python",
   "name": "python3"
  },
  "language_info": {
   "codemirror_mode": {
    "name": "ipython",
    "version": 3
   },
   "file_extension": ".py",
   "mimetype": "text/x-python",
   "name": "python",
   "nbconvert_exporter": "python",
   "pygments_lexer": "ipython3",
   "version": "3.11.3"
  }
 },
 "nbformat": 4,
 "nbformat_minor": 2
}
